{
 "cells": [
  {
   "cell_type": "code",
   "execution_count": 1,
   "metadata": {
    "collapsed": true
   },
   "outputs": [],
   "source": [
    "import pandas as pd"
   ]
  },
  {
   "cell_type": "markdown",
   "metadata": {},
   "source": [
    "# Phones Accelerometer"
   ]
  },
  {
   "cell_type": "code",
   "execution_count": 6,
   "metadata": {},
   "outputs": [],
   "source": [
    "df = pd.read_csv(\"data/Activity_recognition_exp/Phones_accelerometer.csv\", nrows=1000)"
   ]
  },
  {
   "cell_type": "code",
   "execution_count": 9,
   "metadata": {},
   "outputs": [
    {
     "data": {
      "text/html": [
       "<div>\n",
       "<style>\n",
       "    .dataframe thead tr:only-child th {\n",
       "        text-align: right;\n",
       "    }\n",
       "\n",
       "    .dataframe thead th {\n",
       "        text-align: left;\n",
       "    }\n",
       "\n",
       "    .dataframe tbody tr th {\n",
       "        vertical-align: top;\n",
       "    }\n",
       "</style>\n",
       "<table border=\"1\" class=\"dataframe\">\n",
       "  <thead>\n",
       "    <tr style=\"text-align: right;\">\n",
       "      <th></th>\n",
       "      <th>Index</th>\n",
       "      <th>Arrival_Time</th>\n",
       "      <th>Creation_Time</th>\n",
       "      <th>x</th>\n",
       "      <th>y</th>\n",
       "      <th>z</th>\n",
       "      <th>User</th>\n",
       "      <th>Model</th>\n",
       "      <th>Device</th>\n",
       "      <th>gt</th>\n",
       "    </tr>\n",
       "  </thead>\n",
       "  <tbody>\n",
       "    <tr>\n",
       "      <th>0</th>\n",
       "      <td>0</td>\n",
       "      <td>1424696633908</td>\n",
       "      <td>1424696631913248572</td>\n",
       "      <td>-5.958191</td>\n",
       "      <td>0.688065</td>\n",
       "      <td>8.135345</td>\n",
       "      <td>a</td>\n",
       "      <td>nexus4</td>\n",
       "      <td>nexus4_1</td>\n",
       "      <td>stand</td>\n",
       "    </tr>\n",
       "    <tr>\n",
       "      <th>1</th>\n",
       "      <td>1</td>\n",
       "      <td>1424696633909</td>\n",
       "      <td>1424696631918283972</td>\n",
       "      <td>-5.952240</td>\n",
       "      <td>0.670212</td>\n",
       "      <td>8.136536</td>\n",
       "      <td>a</td>\n",
       "      <td>nexus4</td>\n",
       "      <td>nexus4_1</td>\n",
       "      <td>stand</td>\n",
       "    </tr>\n",
       "    <tr>\n",
       "      <th>2</th>\n",
       "      <td>2</td>\n",
       "      <td>1424696633918</td>\n",
       "      <td>1424696631923288855</td>\n",
       "      <td>-5.995087</td>\n",
       "      <td>0.653549</td>\n",
       "      <td>8.204376</td>\n",
       "      <td>a</td>\n",
       "      <td>nexus4</td>\n",
       "      <td>nexus4_1</td>\n",
       "      <td>stand</td>\n",
       "    </tr>\n",
       "    <tr>\n",
       "      <th>3</th>\n",
       "      <td>3</td>\n",
       "      <td>1424696633919</td>\n",
       "      <td>1424696631928385290</td>\n",
       "      <td>-5.942718</td>\n",
       "      <td>0.676163</td>\n",
       "      <td>8.128204</td>\n",
       "      <td>a</td>\n",
       "      <td>nexus4</td>\n",
       "      <td>nexus4_1</td>\n",
       "      <td>stand</td>\n",
       "    </tr>\n",
       "    <tr>\n",
       "      <th>4</th>\n",
       "      <td>4</td>\n",
       "      <td>1424696633929</td>\n",
       "      <td>1424696631933420691</td>\n",
       "      <td>-5.991516</td>\n",
       "      <td>0.641647</td>\n",
       "      <td>8.135345</td>\n",
       "      <td>a</td>\n",
       "      <td>nexus4</td>\n",
       "      <td>nexus4_1</td>\n",
       "      <td>stand</td>\n",
       "    </tr>\n",
       "  </tbody>\n",
       "</table>\n",
       "</div>"
      ],
      "text/plain": [
       "   Index   Arrival_Time        Creation_Time         x         y         z  \\\n",
       "0      0  1424696633908  1424696631913248572 -5.958191  0.688065  8.135345   \n",
       "1      1  1424696633909  1424696631918283972 -5.952240  0.670212  8.136536   \n",
       "2      2  1424696633918  1424696631923288855 -5.995087  0.653549  8.204376   \n",
       "3      3  1424696633919  1424696631928385290 -5.942718  0.676163  8.128204   \n",
       "4      4  1424696633929  1424696631933420691 -5.991516  0.641647  8.135345   \n",
       "\n",
       "  User   Model    Device     gt  \n",
       "0    a  nexus4  nexus4_1  stand  \n",
       "1    a  nexus4  nexus4_1  stand  \n",
       "2    a  nexus4  nexus4_1  stand  \n",
       "3    a  nexus4  nexus4_1  stand  \n",
       "4    a  nexus4  nexus4_1  stand  "
      ]
     },
     "execution_count": 9,
     "metadata": {},
     "output_type": "execute_result"
    }
   ],
   "source": [
    "df.head()"
   ]
  },
  {
   "cell_type": "code",
   "execution_count": 8,
   "metadata": {},
   "outputs": [
    {
     "data": {
      "text/plain": [
       "Index              int64\n",
       "Arrival_Time       int64\n",
       "Creation_Time      int64\n",
       "x                float64\n",
       "y                float64\n",
       "z                float64\n",
       "User              object\n",
       "Model             object\n",
       "Device            object\n",
       "gt                object\n",
       "dtype: object"
      ]
     },
     "execution_count": 8,
     "metadata": {},
     "output_type": "execute_result"
    }
   ],
   "source": [
    "df.dtypes"
   ]
  },
  {
   "cell_type": "markdown",
   "metadata": {},
   "source": [
    "```sql\n",
    "CREATE TABLE Phones_accelerometer (\n",
    "Index              INTEGER,\n",
    "Arrival_Time       BIGINT,\n",
    "Creation_Time      BIGINT,\n",
    "x                DOUBLE,\n",
    "y                DOUBLE,\n",
    "z                DOUBLE,\n",
    "User              TEXT ENCODING DICT,\n",
    "Model             TEXT ENCODING DICT,\n",
    "Device            TEXT ENCODING DICT,\n",
    "gt                TEXT ENCODING DICT\n",
    ");\n",
    "```"
   ]
  },
  {
   "cell_type": "markdown",
   "metadata": {},
   "source": [
    "# Phones gyroscope"
   ]
  },
  {
   "cell_type": "code",
   "execution_count": 12,
   "metadata": {},
   "outputs": [],
   "source": [
    "df = pd.read_csv(\"./data/Activity_recognition_exp/Phones_gyroscope.csv\", nrows=1000)"
   ]
  },
  {
   "cell_type": "code",
   "execution_count": 13,
   "metadata": {},
   "outputs": [
    {
     "data": {
      "text/html": [
       "<div>\n",
       "<style>\n",
       "    .dataframe thead tr:only-child th {\n",
       "        text-align: right;\n",
       "    }\n",
       "\n",
       "    .dataframe thead th {\n",
       "        text-align: left;\n",
       "    }\n",
       "\n",
       "    .dataframe tbody tr th {\n",
       "        vertical-align: top;\n",
       "    }\n",
       "</style>\n",
       "<table border=\"1\" class=\"dataframe\">\n",
       "  <thead>\n",
       "    <tr style=\"text-align: right;\">\n",
       "      <th></th>\n",
       "      <th>Index</th>\n",
       "      <th>Arrival_Time</th>\n",
       "      <th>Creation_Time</th>\n",
       "      <th>x</th>\n",
       "      <th>y</th>\n",
       "      <th>z</th>\n",
       "      <th>User</th>\n",
       "      <th>Model</th>\n",
       "      <th>Device</th>\n",
       "      <th>gt</th>\n",
       "    </tr>\n",
       "  </thead>\n",
       "  <tbody>\n",
       "    <tr>\n",
       "      <th>0</th>\n",
       "      <td>0</td>\n",
       "      <td>1424696633909</td>\n",
       "      <td>1424696631914042029</td>\n",
       "      <td>0.013748</td>\n",
       "      <td>-0.000626</td>\n",
       "      <td>-0.023376</td>\n",
       "      <td>a</td>\n",
       "      <td>nexus4</td>\n",
       "      <td>nexus4_1</td>\n",
       "      <td>stand</td>\n",
       "    </tr>\n",
       "    <tr>\n",
       "      <th>1</th>\n",
       "      <td>1</td>\n",
       "      <td>1424696633909</td>\n",
       "      <td>1424696631919046912</td>\n",
       "      <td>0.014816</td>\n",
       "      <td>-0.001694</td>\n",
       "      <td>-0.022308</td>\n",
       "      <td>a</td>\n",
       "      <td>nexus4</td>\n",
       "      <td>nexus4_1</td>\n",
       "      <td>stand</td>\n",
       "    </tr>\n",
       "    <tr>\n",
       "      <th>2</th>\n",
       "      <td>2</td>\n",
       "      <td>1424696633918</td>\n",
       "      <td>1424696631924051794</td>\n",
       "      <td>0.015884</td>\n",
       "      <td>-0.001694</td>\n",
       "      <td>-0.021240</td>\n",
       "      <td>a</td>\n",
       "      <td>nexus4</td>\n",
       "      <td>nexus4_1</td>\n",
       "      <td>stand</td>\n",
       "    </tr>\n",
       "    <tr>\n",
       "      <th>3</th>\n",
       "      <td>3</td>\n",
       "      <td>1424696633919</td>\n",
       "      <td>1424696631929117712</td>\n",
       "      <td>0.016953</td>\n",
       "      <td>-0.003830</td>\n",
       "      <td>-0.020172</td>\n",
       "      <td>a</td>\n",
       "      <td>nexus4</td>\n",
       "      <td>nexus4_1</td>\n",
       "      <td>stand</td>\n",
       "    </tr>\n",
       "    <tr>\n",
       "      <th>4</th>\n",
       "      <td>4</td>\n",
       "      <td>1424696633928</td>\n",
       "      <td>1424696631934214148</td>\n",
       "      <td>0.015884</td>\n",
       "      <td>-0.007034</td>\n",
       "      <td>-0.020172</td>\n",
       "      <td>a</td>\n",
       "      <td>nexus4</td>\n",
       "      <td>nexus4_1</td>\n",
       "      <td>stand</td>\n",
       "    </tr>\n",
       "  </tbody>\n",
       "</table>\n",
       "</div>"
      ],
      "text/plain": [
       "   Index   Arrival_Time        Creation_Time         x         y         z  \\\n",
       "0      0  1424696633909  1424696631914042029  0.013748 -0.000626 -0.023376   \n",
       "1      1  1424696633909  1424696631919046912  0.014816 -0.001694 -0.022308   \n",
       "2      2  1424696633918  1424696631924051794  0.015884 -0.001694 -0.021240   \n",
       "3      3  1424696633919  1424696631929117712  0.016953 -0.003830 -0.020172   \n",
       "4      4  1424696633928  1424696631934214148  0.015884 -0.007034 -0.020172   \n",
       "\n",
       "  User   Model    Device     gt  \n",
       "0    a  nexus4  nexus4_1  stand  \n",
       "1    a  nexus4  nexus4_1  stand  \n",
       "2    a  nexus4  nexus4_1  stand  \n",
       "3    a  nexus4  nexus4_1  stand  \n",
       "4    a  nexus4  nexus4_1  stand  "
      ]
     },
     "execution_count": 13,
     "metadata": {},
     "output_type": "execute_result"
    }
   ],
   "source": [
    "df.head()"
   ]
  },
  {
   "cell_type": "code",
   "execution_count": 14,
   "metadata": {},
   "outputs": [
    {
     "data": {
      "text/plain": [
       "Index              int64\n",
       "Arrival_Time       int64\n",
       "Creation_Time      int64\n",
       "x                float64\n",
       "y                float64\n",
       "z                float64\n",
       "User              object\n",
       "Model             object\n",
       "Device            object\n",
       "gt                object\n",
       "dtype: object"
      ]
     },
     "execution_count": 14,
     "metadata": {},
     "output_type": "execute_result"
    }
   ],
   "source": [
    "df.dtypes"
   ]
  },
  {
   "cell_type": "markdown",
   "metadata": {},
   "source": [
    "```sql\n",
    "CREATE TABLE Phones_gyroscope (\n",
    "Index              INTEGER,\n",
    "Arrival_Time       BIGINT,\n",
    "Creation_Time      BIGINT,\n",
    "x                DOUBLE,\n",
    "y                DOUBLE,\n",
    "z                DOUBLE,\n",
    "User              TEXT ENCODING DICT,\n",
    "Model             TEXT ENCODING DICT,\n",
    "Device            TEXT ENCODING DICT,\n",
    "gt                TEXT ENCODING DICT\n",
    ");\n",
    "```"
   ]
  }
 ],
 "metadata": {
  "kernelspec": {
   "display_name": "Python 3",
   "language": "python",
   "name": "python3"
  },
  "language_info": {
   "codemirror_mode": {
    "name": "ipython",
    "version": 3
   },
   "file_extension": ".py",
   "mimetype": "text/x-python",
   "name": "python",
   "nbconvert_exporter": "python",
   "pygments_lexer": "ipython3",
   "version": "3.6.0"
  }
 },
 "nbformat": 4,
 "nbformat_minor": 2
}
