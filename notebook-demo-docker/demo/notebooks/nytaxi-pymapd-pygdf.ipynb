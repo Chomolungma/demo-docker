{
 "cells": [
  {
   "cell_type": "markdown",
   "metadata": {},
   "source": [
    "# PyMapD and PyGDF Demo on NY Taxi Data Subset"
   ]
  },
  {
   "cell_type": "markdown",
   "metadata": {},
   "source": [
    "In this example, we will use PyMapD to create and populate a table of NY Taxi data from a CSV file.  Then, we query the MapD database to get a PyGDF GPU dataframe and manipulate the data using groupby, join and other dataframe operations."
   ]
  },
  {
   "cell_type": "code",
   "execution_count": 1,
   "metadata": {
    "collapsed": true
   },
   "outputs": [],
   "source": [
    "import pygdf \n",
    "import pymapd"
   ]
  },
  {
   "cell_type": "markdown",
   "metadata": {},
   "source": [
    "## Connect to MapD"
   ]
  },
  {
   "cell_type": "code",
   "execution_count": 2,
   "metadata": {
    "collapsed": true
   },
   "outputs": [],
   "source": [
    "con = pymapd.connect(user=\"mapd\", password=\"HyperInteractive\", host=\"localhost\", dbname=\"mapd\")"
   ]
  },
  {
   "cell_type": "markdown",
   "metadata": {},
   "source": [
    "### Make table"
   ]
  },
  {
   "cell_type": "code",
   "execution_count": 3,
   "metadata": {},
   "outputs": [
    {
     "data": {
      "text/plain": [
       "<pymapd.cursor.Cursor at 0x7f41cb35f748>"
      ]
     },
     "execution_count": 3,
     "metadata": {},
     "output_type": "execute_result"
    }
   ],
   "source": [
    "con.execute(\"DROP TABLE IF EXISTS nytaxi_subset;\")\n",
    "con.execute(\"\"\"CREATE TABLE nytaxi_subset (\n",
    "vendor_id                  TEXT ENCODING DICT,\n",
    "rate_code                  INTEGER,\n",
    "store_and_fwd_flag         TEXT ENCODING DICT,\n",
    "passenger_count            INTEGER,\n",
    "trip_time_in_secs          INTEGER,\n",
    "trip_distance              DOUBLE,\n",
    "pickup_longitude           DOUBLE,\n",
    "pickup_latitude            DOUBLE,\n",
    "dropoff_longitude          DOUBLE,\n",
    "dropoff_latitude           DOUBLE,\n",
    "tolls_amount               DOUBLE,\n",
    "tip_amount                 DOUBLE,\n",
    "total_amount               DOUBLE,\n",
    "mta_tax                    DOUBLE,\n",
    "fare_amount                DOUBLE,\n",
    "payment_type               TEXT ENCODING DICT,\n",
    "surcharge                  DOUBLE,\n",
    "pickup_datetime_year       INTEGER,\n",
    "pickup_datetime_month      INTEGER,\n",
    "pickup_datetime_day        INTEGER,\n",
    "pickup_datetime_hours      INTEGER,\n",
    "dropoff_datetime_year      INTEGER,\n",
    "dropoff_datetime_month     INTEGER,\n",
    "dropoff_datetime_day       INTEGER,\n",
    "dropoff_datetime_hours     INTEGER\n",
    ");\n",
    "\"\"\")"
   ]
  },
  {
   "cell_type": "markdown",
   "metadata": {},
   "source": [
    "### Load data from csv"
   ]
  },
  {
   "cell_type": "markdown",
   "metadata": {},
   "source": [
    "Decompress CSV archive"
   ]
  },
  {
   "cell_type": "code",
   "execution_count": 4,
   "metadata": {},
   "outputs": [],
   "source": [
    "!gunzip -kf ./data/nytaxi/nytaxi_pre_mapd_200k.csv.gz"
   ]
  },
  {
   "cell_type": "markdown",
   "metadata": {},
   "source": [
    "Load data"
   ]
  },
  {
   "cell_type": "code",
   "execution_count": 5,
   "metadata": {},
   "outputs": [
    {
     "data": {
      "text/plain": [
       "<pymapd.cursor.Cursor at 0x7f41cb366fd0>"
      ]
     },
     "execution_count": 5,
     "metadata": {},
     "output_type": "execute_result"
    }
   ],
   "source": [
    "PWD = !pwd\n",
    "con.execute(\"COPY nytaxi_subset FROM '{PWD}/data/nytaxi/nytaxi_pre_mapd_200k.csv';\".format(PWD=PWD[0]))"
   ]
  },
  {
   "cell_type": "markdown",
   "metadata": {},
   "source": [
    "## Ingest data from MapD"
   ]
  },
  {
   "cell_type": "code",
   "execution_count": 6,
   "metadata": {
    "collapsed": true
   },
   "outputs": [],
   "source": [
    "df = con.select_ipc_gpu(\"\"\"\n",
    "SELECT  \n",
    "payment_type, pickup_longitude, pickup_latitude, tip_amount, total_amount, fare_amount\n",
    "FROM nytaxi_subset \n",
    "\"\"\")"
   ]
  },
  {
   "cell_type": "markdown",
   "metadata": {},
   "source": [
    "Check the type of the result from `con.select_ipc_gpu` is a GPU dataframe"
   ]
  },
  {
   "cell_type": "code",
   "execution_count": 7,
   "metadata": {},
   "outputs": [
    {
     "data": {
      "text/plain": [
       "pygdf.dataframe.DataFrame"
      ]
     },
     "execution_count": 7,
     "metadata": {},
     "output_type": "execute_result"
    }
   ],
   "source": [
    "type(df)"
   ]
  },
  {
   "cell_type": "code",
   "execution_count": 8,
   "metadata": {},
   "outputs": [
    {
     "name": "stdout",
     "output_type": "stream",
     "text": [
      "nrows 200000\n"
     ]
    }
   ],
   "source": [
    "print('nrows', len(df))"
   ]
  },
  {
   "cell_type": "markdown",
   "metadata": {},
   "source": [
    "Inspect column types"
   ]
  },
  {
   "cell_type": "code",
   "execution_count": 9,
   "metadata": {},
   "outputs": [
    {
     "data": {
      "text/plain": [
       "payment_type        category\n",
       "pickup_longitude     float64\n",
       "pickup_latitude      float64\n",
       "tip_amount           float64\n",
       "total_amount         float64\n",
       "fare_amount          float64\n",
       "dtype: object"
      ]
     },
     "execution_count": 9,
     "metadata": {},
     "output_type": "execute_result"
    }
   ],
   "source": [
    "df.dtypes"
   ]
  },
  {
   "cell_type": "code",
   "execution_count": 10,
   "metadata": {},
   "outputs": [
    {
     "data": {
      "text/html": [
       "<div>\n",
       "<style>\n",
       "    .dataframe thead tr:only-child th {\n",
       "        text-align: right;\n",
       "    }\n",
       "\n",
       "    .dataframe thead th {\n",
       "        text-align: left;\n",
       "    }\n",
       "\n",
       "    .dataframe tbody tr th {\n",
       "        vertical-align: top;\n",
       "    }\n",
       "</style>\n",
       "<table border=\"1\" class=\"dataframe\">\n",
       "  <thead>\n",
       "    <tr style=\"text-align: right;\">\n",
       "      <th></th>\n",
       "      <th>payment_type</th>\n",
       "      <th>pickup_longitude</th>\n",
       "      <th>pickup_latitude</th>\n",
       "      <th>tip_amount</th>\n",
       "      <th>total_amount</th>\n",
       "      <th>fare_amount</th>\n",
       "    </tr>\n",
       "  </thead>\n",
       "  <tbody>\n",
       "    <tr>\n",
       "      <th>0</th>\n",
       "      <td>CSH</td>\n",
       "      <td>-73.987556</td>\n",
       "      <td>40.761391</td>\n",
       "      <td>0.00</td>\n",
       "      <td>4.50</td>\n",
       "      <td>4.0</td>\n",
       "    </tr>\n",
       "    <tr>\n",
       "      <th>1</th>\n",
       "      <td>CRD</td>\n",
       "      <td>-73.990776</td>\n",
       "      <td>40.755871</td>\n",
       "      <td>1.38</td>\n",
       "      <td>7.38</td>\n",
       "      <td>5.5</td>\n",
       "    </tr>\n",
       "    <tr>\n",
       "      <th>2</th>\n",
       "      <td>CRD</td>\n",
       "      <td>-73.964905</td>\n",
       "      <td>40.763874</td>\n",
       "      <td>1.40</td>\n",
       "      <td>8.90</td>\n",
       "      <td>7.0</td>\n",
       "    </tr>\n",
       "    <tr>\n",
       "      <th>3</th>\n",
       "      <td>CRD</td>\n",
       "      <td>-73.989098</td>\n",
       "      <td>40.773476</td>\n",
       "      <td>1.00</td>\n",
       "      <td>7.00</td>\n",
       "      <td>5.5</td>\n",
       "    </tr>\n",
       "    <tr>\n",
       "      <th>4</th>\n",
       "      <td>CRD</td>\n",
       "      <td>-73.992874</td>\n",
       "      <td>40.736671</td>\n",
       "      <td>2.50</td>\n",
       "      <td>20.00</td>\n",
       "      <td>17.0</td>\n",
       "    </tr>\n",
       "  </tbody>\n",
       "</table>\n",
       "</div>"
      ],
      "text/plain": [
       "  payment_type  pickup_longitude  pickup_latitude  tip_amount  total_amount  \\\n",
       "0          CSH        -73.987556        40.761391        0.00          4.50   \n",
       "1          CRD        -73.990776        40.755871        1.38          7.38   \n",
       "2          CRD        -73.964905        40.763874        1.40          8.90   \n",
       "3          CRD        -73.989098        40.773476        1.00          7.00   \n",
       "4          CRD        -73.992874        40.736671        2.50         20.00   \n",
       "\n",
       "   fare_amount  \n",
       "0          4.0  \n",
       "1          5.5  \n",
       "2          7.0  \n",
       "3          5.5  \n",
       "4         17.0  "
      ]
     },
     "execution_count": 10,
     "metadata": {},
     "output_type": "execute_result"
    }
   ],
   "source": [
    "df.head().to_pandas()"
   ]
  },
  {
   "cell_type": "markdown",
   "metadata": {},
   "source": [
    "## Groupby lat lon grid"
   ]
  },
  {
   "cell_type": "markdown",
   "metadata": {},
   "source": [
    "We want to group each record by their pickup location. We will to round the lat lon with the ``round_latlon`` method.  By using ``.applymap``, the rounding method will be compiled into GPU code."
   ]
  },
  {
   "cell_type": "code",
   "execution_count": 11,
   "metadata": {
    "collapsed": true
   },
   "outputs": [],
   "source": [
    "from math import floor\n",
    "\n",
    "def round_latlon(x):\n",
    "    scale = 5\n",
    "    return floor(x * scale) / scale"
   ]
  },
  {
   "cell_type": "code",
   "execution_count": 12,
   "metadata": {
    "collapsed": true
   },
   "outputs": [],
   "source": [
    "group_df = df.loc[:, ['pickup_longitude', 'pickup_latitude', 'tip_amount', 'fare_amount']] \n",
    "\n",
    "group_df['pickup_longitude'] = group_df['pickup_longitude'].applymap(round_latlon)\n",
    "group_df['pickup_latitude'] = group_df['pickup_latitude'].applymap(round_latlon)\n",
    "\n",
    "group_df['tip_ratio'] = group_df['tip_amount'] / group_df['fare_amount']\n"
   ]
  },
  {
   "cell_type": "code",
   "execution_count": 13,
   "metadata": {},
   "outputs": [
    {
     "data": {
      "text/plain": [
       "pickup_longitude    float64\n",
       "pickup_latitude     float64\n",
       "tip_amount          float64\n",
       "fare_amount         float64\n",
       "tip_ratio           float64\n",
       "dtype: object"
      ]
     },
     "execution_count": 13,
     "metadata": {},
     "output_type": "execute_result"
    }
   ],
   "source": [
    "group_df.dtypes"
   ]
  },
  {
   "cell_type": "code",
   "execution_count": 14,
   "metadata": {},
   "outputs": [
    {
     "data": {
      "text/html": [
       "<div>\n",
       "<style>\n",
       "    .dataframe thead tr:only-child th {\n",
       "        text-align: right;\n",
       "    }\n",
       "\n",
       "    .dataframe thead th {\n",
       "        text-align: left;\n",
       "    }\n",
       "\n",
       "    .dataframe tbody tr th {\n",
       "        vertical-align: top;\n",
       "    }\n",
       "</style>\n",
       "<table border=\"1\" class=\"dataframe\">\n",
       "  <thead>\n",
       "    <tr style=\"text-align: right;\">\n",
       "      <th></th>\n",
       "      <th>pickup_longitude</th>\n",
       "      <th>pickup_latitude</th>\n",
       "      <th>tip_amount</th>\n",
       "      <th>fare_amount</th>\n",
       "      <th>tip_ratio</th>\n",
       "    </tr>\n",
       "  </thead>\n",
       "  <tbody>\n",
       "    <tr>\n",
       "      <th>0</th>\n",
       "      <td>-74.0</td>\n",
       "      <td>40.6</td>\n",
       "      <td>0.00</td>\n",
       "      <td>4.0</td>\n",
       "      <td>0.000000</td>\n",
       "    </tr>\n",
       "    <tr>\n",
       "      <th>1</th>\n",
       "      <td>-74.0</td>\n",
       "      <td>40.6</td>\n",
       "      <td>1.38</td>\n",
       "      <td>5.5</td>\n",
       "      <td>0.250909</td>\n",
       "    </tr>\n",
       "    <tr>\n",
       "      <th>2</th>\n",
       "      <td>-74.0</td>\n",
       "      <td>40.6</td>\n",
       "      <td>1.40</td>\n",
       "      <td>7.0</td>\n",
       "      <td>0.200000</td>\n",
       "    </tr>\n",
       "    <tr>\n",
       "      <th>3</th>\n",
       "      <td>-74.0</td>\n",
       "      <td>40.6</td>\n",
       "      <td>1.00</td>\n",
       "      <td>5.5</td>\n",
       "      <td>0.181818</td>\n",
       "    </tr>\n",
       "    <tr>\n",
       "      <th>4</th>\n",
       "      <td>-74.0</td>\n",
       "      <td>40.6</td>\n",
       "      <td>2.50</td>\n",
       "      <td>17.0</td>\n",
       "      <td>0.147059</td>\n",
       "    </tr>\n",
       "  </tbody>\n",
       "</table>\n",
       "</div>"
      ],
      "text/plain": [
       "   pickup_longitude  pickup_latitude  tip_amount  fare_amount  tip_ratio\n",
       "0             -74.0             40.6        0.00          4.0   0.000000\n",
       "1             -74.0             40.6        1.38          5.5   0.250909\n",
       "2             -74.0             40.6        1.40          7.0   0.200000\n",
       "3             -74.0             40.6        1.00          5.5   0.181818\n",
       "4             -74.0             40.6        2.50         17.0   0.147059"
      ]
     },
     "execution_count": 14,
     "metadata": {},
     "output_type": "execute_result"
    }
   ],
   "source": [
    "group_df.head().to_pandas()"
   ]
  },
  {
   "cell_type": "markdown",
   "metadata": {},
   "source": [
    "Here, we run groupby and specify the aggregating methods on each column."
   ]
  },
  {
   "cell_type": "code",
   "execution_count": 15,
   "metadata": {},
   "outputs": [
    {
     "name": "stdout",
     "output_type": "stream",
     "text": [
      "total groups 50\n"
     ]
    },
    {
     "data": {
      "text/html": [
       "<div>\n",
       "<style>\n",
       "    .dataframe thead tr:only-child th {\n",
       "        text-align: right;\n",
       "    }\n",
       "\n",
       "    .dataframe thead th {\n",
       "        text-align: left;\n",
       "    }\n",
       "\n",
       "    .dataframe tbody tr th {\n",
       "        vertical-align: top;\n",
       "    }\n",
       "</style>\n",
       "<table border=\"1\" class=\"dataframe\">\n",
       "  <thead>\n",
       "    <tr style=\"text-align: right;\">\n",
       "      <th></th>\n",
       "      <th>pickup_longitude</th>\n",
       "      <th>pickup_latitude</th>\n",
       "      <th>tip_amount</th>\n",
       "      <th>fare_amount_mean</th>\n",
       "      <th>fare_amount_std</th>\n",
       "      <th>fare_amount_count</th>\n",
       "      <th>tip_ratio</th>\n",
       "    </tr>\n",
       "  </thead>\n",
       "  <tbody>\n",
       "    <tr>\n",
       "      <th>0</th>\n",
       "      <td>-98.2</td>\n",
       "      <td>40.6</td>\n",
       "      <td>0.9</td>\n",
       "      <td>4.50</td>\n",
       "      <td>0.00</td>\n",
       "      <td>1.0</td>\n",
       "      <td>0.200000</td>\n",
       "    </tr>\n",
       "    <tr>\n",
       "      <th>1</th>\n",
       "      <td>-94.2</td>\n",
       "      <td>40.6</td>\n",
       "      <td>0.0</td>\n",
       "      <td>30.25</td>\n",
       "      <td>21.75</td>\n",
       "      <td>2.0</td>\n",
       "      <td>0.000000</td>\n",
       "    </tr>\n",
       "    <tr>\n",
       "      <th>2</th>\n",
       "      <td>-81.0</td>\n",
       "      <td>40.6</td>\n",
       "      <td>2.4</td>\n",
       "      <td>12.00</td>\n",
       "      <td>0.00</td>\n",
       "      <td>1.0</td>\n",
       "      <td>0.200000</td>\n",
       "    </tr>\n",
       "    <tr>\n",
       "      <th>3</th>\n",
       "      <td>-75.4</td>\n",
       "      <td>40.6</td>\n",
       "      <td>2.2</td>\n",
       "      <td>10.50</td>\n",
       "      <td>0.00</td>\n",
       "      <td>1.0</td>\n",
       "      <td>0.209524</td>\n",
       "    </tr>\n",
       "    <tr>\n",
       "      <th>4</th>\n",
       "      <td>-74.6</td>\n",
       "      <td>40.6</td>\n",
       "      <td>1.2</td>\n",
       "      <td>6.00</td>\n",
       "      <td>0.00</td>\n",
       "      <td>1.0</td>\n",
       "      <td>0.200000</td>\n",
       "    </tr>\n",
       "  </tbody>\n",
       "</table>\n",
       "</div>"
      ],
      "text/plain": [
       "   pickup_longitude  pickup_latitude  tip_amount  fare_amount_mean  \\\n",
       "0             -98.2             40.6         0.9              4.50   \n",
       "1             -94.2             40.6         0.0             30.25   \n",
       "2             -81.0             40.6         2.4             12.00   \n",
       "3             -75.4             40.6         2.2             10.50   \n",
       "4             -74.6             40.6         1.2              6.00   \n",
       "\n",
       "   fare_amount_std  fare_amount_count  tip_ratio  \n",
       "0             0.00                1.0   0.200000  \n",
       "1            21.75                2.0   0.000000  \n",
       "2             0.00                1.0   0.200000  \n",
       "3             0.00                1.0   0.209524  \n",
       "4             0.00                1.0   0.200000  "
      ]
     },
     "execution_count": 15,
     "metadata": {},
     "output_type": "execute_result"
    }
   ],
   "source": [
    "from collections import OrderedDict\n",
    "\n",
    "# Aggregating methods to apply to each column\n",
    "aggs = OrderedDict()\n",
    "aggs['tip_amount'] = 'mean'\n",
    "aggs['fare_amount'] = ['mean', 'std', 'count']\n",
    "aggs['tip_ratio'] = 'mean'\n",
    "\n",
    "\n",
    "grouped_stats = group_df.groupby(['pickup_longitude', 'pickup_latitude']).agg(aggs)\n",
    "print('total groups', len(grouped_stats))\n",
    "grouped_stats.head().to_pandas()"
   ]
  },
  {
   "cell_type": "markdown",
   "metadata": {},
   "source": [
    "Reorder the grouped dataframe by `fare_amount_count`"
   ]
  },
  {
   "cell_type": "code",
   "execution_count": 16,
   "metadata": {},
   "outputs": [
    {
     "data": {
      "text/html": [
       "<div>\n",
       "<style>\n",
       "    .dataframe thead tr:only-child th {\n",
       "        text-align: right;\n",
       "    }\n",
       "\n",
       "    .dataframe thead th {\n",
       "        text-align: left;\n",
       "    }\n",
       "\n",
       "    .dataframe tbody tr th {\n",
       "        vertical-align: top;\n",
       "    }\n",
       "</style>\n",
       "<table border=\"1\" class=\"dataframe\">\n",
       "  <thead>\n",
       "    <tr style=\"text-align: right;\">\n",
       "      <th></th>\n",
       "      <th>pickup_longitude</th>\n",
       "      <th>pickup_latitude</th>\n",
       "      <th>tip_amount</th>\n",
       "      <th>fare_amount_mean</th>\n",
       "      <th>fare_amount_std</th>\n",
       "      <th>fare_amount_count</th>\n",
       "      <th>tip_ratio</th>\n",
       "    </tr>\n",
       "  </thead>\n",
       "  <tbody>\n",
       "    <tr>\n",
       "      <th>13</th>\n",
       "      <td>-74.0</td>\n",
       "      <td>40.6</td>\n",
       "      <td>1.175462</td>\n",
       "      <td>11.251773</td>\n",
       "      <td>8.682359</td>\n",
       "      <td>162910.0</td>\n",
       "      <td>0.099798</td>\n",
       "    </tr>\n",
       "    <tr>\n",
       "      <th>9</th>\n",
       "      <td>-74.2</td>\n",
       "      <td>40.6</td>\n",
       "      <td>1.279872</td>\n",
       "      <td>11.780425</td>\n",
       "      <td>8.612637</td>\n",
       "      <td>24133.0</td>\n",
       "      <td>0.112059</td>\n",
       "    </tr>\n",
       "    <tr>\n",
       "      <th>20</th>\n",
       "      <td>-73.8</td>\n",
       "      <td>40.6</td>\n",
       "      <td>4.731888</td>\n",
       "      <td>45.513919</td>\n",
       "      <td>15.343363</td>\n",
       "      <td>5011.0</td>\n",
       "      <td>0.097381</td>\n",
       "    </tr>\n",
       "    <tr>\n",
       "      <th>14</th>\n",
       "      <td>-74.0</td>\n",
       "      <td>40.8</td>\n",
       "      <td>1.276300</td>\n",
       "      <td>12.889100</td>\n",
       "      <td>10.017667</td>\n",
       "      <td>4211.0</td>\n",
       "      <td>0.091650</td>\n",
       "    </tr>\n",
       "    <tr>\n",
       "      <th>43</th>\n",
       "      <td>0.0</td>\n",
       "      <td>0.0</td>\n",
       "      <td>1.884570</td>\n",
       "      <td>15.715963</td>\n",
       "      <td>19.860135</td>\n",
       "      <td>3582.0</td>\n",
       "      <td>0.161140</td>\n",
       "    </tr>\n",
       "  </tbody>\n",
       "</table>\n",
       "</div>"
      ],
      "text/plain": [
       "    pickup_longitude  pickup_latitude  tip_amount  fare_amount_mean  \\\n",
       "13             -74.0             40.6    1.175462         11.251773   \n",
       "9              -74.2             40.6    1.279872         11.780425   \n",
       "20             -73.8             40.6    4.731888         45.513919   \n",
       "14             -74.0             40.8    1.276300         12.889100   \n",
       "43               0.0              0.0    1.884570         15.715963   \n",
       "\n",
       "    fare_amount_std  fare_amount_count  tip_ratio  \n",
       "13         8.682359           162910.0   0.099798  \n",
       "9          8.612637            24133.0   0.112059  \n",
       "20        15.343363             5011.0   0.097381  \n",
       "14        10.017667             4211.0   0.091650  \n",
       "43        19.860135             3582.0   0.161140  "
      ]
     },
     "execution_count": 16,
     "metadata": {},
     "output_type": "execute_result"
    }
   ],
   "source": [
    "grouped_stats.sort_values('fare_amount_count', ascending=False).head().to_pandas()"
   ]
  },
  {
   "cell_type": "markdown",
   "metadata": {},
   "source": [
    "## Groupby payment type"
   ]
  },
  {
   "cell_type": "markdown",
   "metadata": {},
   "source": [
    "We can also group by categorical columns."
   ]
  },
  {
   "cell_type": "code",
   "execution_count": 17,
   "metadata": {},
   "outputs": [
    {
     "data": {
      "text/html": [
       "<div>\n",
       "<style>\n",
       "    .dataframe thead tr:only-child th {\n",
       "        text-align: right;\n",
       "    }\n",
       "\n",
       "    .dataframe thead th {\n",
       "        text-align: left;\n",
       "    }\n",
       "\n",
       "    .dataframe tbody tr th {\n",
       "        vertical-align: top;\n",
       "    }\n",
       "</style>\n",
       "<table border=\"1\" class=\"dataframe\">\n",
       "  <thead>\n",
       "    <tr style=\"text-align: right;\">\n",
       "      <th></th>\n",
       "      <th>payment_type</th>\n",
       "      <th>tip_amount</th>\n",
       "      <th>fare_amount</th>\n",
       "      <th>tip_ratio</th>\n",
       "    </tr>\n",
       "  </thead>\n",
       "  <tbody>\n",
       "    <tr>\n",
       "      <th>2</th>\n",
       "      <td>UNK</td>\n",
       "      <td>3.623360</td>\n",
       "      <td>18.695040</td>\n",
       "      <td>0.205597</td>\n",
       "    </tr>\n",
       "    <tr>\n",
       "      <th>0</th>\n",
       "      <td>CRD</td>\n",
       "      <td>2.462649</td>\n",
       "      <td>13.355459</td>\n",
       "      <td>0.194828</td>\n",
       "    </tr>\n",
       "    <tr>\n",
       "      <th>1</th>\n",
       "      <td>CSH</td>\n",
       "      <td>0.000118</td>\n",
       "      <td>11.130542</td>\n",
       "      <td>0.000009</td>\n",
       "    </tr>\n",
       "    <tr>\n",
       "      <th>3</th>\n",
       "      <td>DIS</td>\n",
       "      <td>0.000000</td>\n",
       "      <td>5.250000</td>\n",
       "      <td>0.000000</td>\n",
       "    </tr>\n",
       "    <tr>\n",
       "      <th>4</th>\n",
       "      <td>NOC</td>\n",
       "      <td>0.000000</td>\n",
       "      <td>2.500000</td>\n",
       "      <td>0.000000</td>\n",
       "    </tr>\n",
       "  </tbody>\n",
       "</table>\n",
       "</div>"
      ],
      "text/plain": [
       "  payment_type  tip_amount  fare_amount  tip_ratio\n",
       "2          UNK    3.623360    18.695040   0.205597\n",
       "0          CRD    2.462649    13.355459   0.194828\n",
       "1          CSH    0.000118    11.130542   0.000009\n",
       "3          DIS    0.000000     5.250000   0.000000\n",
       "4          NOC    0.000000     2.500000   0.000000"
      ]
     },
     "execution_count": 17,
     "metadata": {},
     "output_type": "execute_result"
    }
   ],
   "source": [
    "group_pay = df.loc[:, ['payment_type', 'tip_amount', 'fare_amount']]\n",
    "group_pay['tip_ratio'] = group_df['tip_ratio']\n",
    "\n",
    "groupby_payment = group_pay.groupby(['payment_type']).mean()\n",
    "groupby_payment.sort_values('tip_ratio', ascending=False).to_pandas()"
   ]
  },
  {
   "cell_type": "markdown",
   "metadata": {},
   "source": [
    "## Join table with payment_type meaning"
   ]
  },
  {
   "cell_type": "markdown",
   "metadata": {},
   "source": [
    "We can use `.join()` to add a description column for each payment type"
   ]
  },
  {
   "cell_type": "code",
   "execution_count": 18,
   "metadata": {},
   "outputs": [
    {
     "data": {
      "text/html": [
       "<div>\n",
       "<style>\n",
       "    .dataframe thead tr:only-child th {\n",
       "        text-align: right;\n",
       "    }\n",
       "\n",
       "    .dataframe thead th {\n",
       "        text-align: left;\n",
       "    }\n",
       "\n",
       "    .dataframe tbody tr th {\n",
       "        vertical-align: top;\n",
       "    }\n",
       "</style>\n",
       "<table border=\"1\" class=\"dataframe\">\n",
       "  <thead>\n",
       "    <tr style=\"text-align: right;\">\n",
       "      <th></th>\n",
       "      <th>payment_meaning</th>\n",
       "    </tr>\n",
       "  </thead>\n",
       "  <tbody>\n",
       "    <tr>\n",
       "      <th>CRD</th>\n",
       "      <td>Credit Card</td>\n",
       "    </tr>\n",
       "    <tr>\n",
       "      <th>CSH</th>\n",
       "      <td>Cash</td>\n",
       "    </tr>\n",
       "    <tr>\n",
       "      <th>NOC</th>\n",
       "      <td>No Charge</td>\n",
       "    </tr>\n",
       "    <tr>\n",
       "      <th>DIS</th>\n",
       "      <td>Dispute</td>\n",
       "    </tr>\n",
       "    <tr>\n",
       "      <th>UNK</th>\n",
       "      <td>Unknown</td>\n",
       "    </tr>\n",
       "  </tbody>\n",
       "</table>\n",
       "</div>"
      ],
      "text/plain": [
       "    payment_meaning\n",
       "CRD     Credit Card\n",
       "CSH            Cash\n",
       "NOC       No Charge\n",
       "DIS         Dispute\n",
       "UNK         Unknown"
      ]
     },
     "execution_count": 18,
     "metadata": {},
     "output_type": "execute_result"
    }
   ],
   "source": [
    "import pandas\n",
    "import numpy as np\n",
    "\n",
    "payment_code = {\n",
    "    'CRD': 'Credit Card',\n",
    "    'CSH': 'Cash',\n",
    "    'NOC': 'No Charge',\n",
    "    'DIS': 'Dispute',\n",
    "    'UNK': 'Unknown',\n",
    "}\n",
    "\n",
    "payment_meaning = pygdf.DataFrame()\n",
    "\n",
    "# Customize codes.dtype to match storage type from mapd\n",
    "src_cat = group_pay.payment_type\n",
    "cat = pandas.Categorical(payment_code.keys(), categories=src_cat.cat.categories)\n",
    "payment_meaning['payment_type'] = pygdf.Series.from_categorical(cat, codes=cat.codes.astype(src_cat.data.dtype))\n",
    "\n",
    "payment_meaning['payment_meaning'] = pandas.Categorical(payment_code.values())\n",
    "payment_meaning = payment_meaning.set_index('payment_type')\n",
    "\n",
    "payment_meaning.to_pandas()"
   ]
  },
  {
   "cell_type": "code",
   "execution_count": 19,
   "metadata": {},
   "outputs": [
    {
     "data": {
      "text/html": [
       "<div>\n",
       "<style>\n",
       "    .dataframe thead tr:only-child th {\n",
       "        text-align: right;\n",
       "    }\n",
       "\n",
       "    .dataframe thead th {\n",
       "        text-align: left;\n",
       "    }\n",
       "\n",
       "    .dataframe tbody tr th {\n",
       "        vertical-align: top;\n",
       "    }\n",
       "</style>\n",
       "<table border=\"1\" class=\"dataframe\">\n",
       "  <thead>\n",
       "    <tr style=\"text-align: right;\">\n",
       "      <th></th>\n",
       "      <th>tip_amount</th>\n",
       "      <th>fare_amount</th>\n",
       "      <th>tip_ratio</th>\n",
       "      <th>payment_meaning</th>\n",
       "    </tr>\n",
       "  </thead>\n",
       "  <tbody>\n",
       "    <tr>\n",
       "      <th>UNK</th>\n",
       "      <td>3.623360</td>\n",
       "      <td>18.695040</td>\n",
       "      <td>0.205597</td>\n",
       "      <td>Unknown</td>\n",
       "    </tr>\n",
       "    <tr>\n",
       "      <th>CRD</th>\n",
       "      <td>2.462649</td>\n",
       "      <td>13.355459</td>\n",
       "      <td>0.194828</td>\n",
       "      <td>Credit Card</td>\n",
       "    </tr>\n",
       "    <tr>\n",
       "      <th>CSH</th>\n",
       "      <td>0.000118</td>\n",
       "      <td>11.130542</td>\n",
       "      <td>0.000009</td>\n",
       "      <td>Cash</td>\n",
       "    </tr>\n",
       "    <tr>\n",
       "      <th>DIS</th>\n",
       "      <td>0.000000</td>\n",
       "      <td>5.250000</td>\n",
       "      <td>0.000000</td>\n",
       "      <td>Dispute</td>\n",
       "    </tr>\n",
       "    <tr>\n",
       "      <th>NOC</th>\n",
       "      <td>0.000000</td>\n",
       "      <td>2.500000</td>\n",
       "      <td>0.000000</td>\n",
       "      <td>No Charge</td>\n",
       "    </tr>\n",
       "  </tbody>\n",
       "</table>\n",
       "</div>"
      ],
      "text/plain": [
       "     tip_amount  fare_amount  tip_ratio payment_meaning\n",
       "UNK    3.623360    18.695040   0.205597         Unknown\n",
       "CRD    2.462649    13.355459   0.194828     Credit Card\n",
       "CSH    0.000118    11.130542   0.000009            Cash\n",
       "DIS    0.000000     5.250000   0.000000         Dispute\n",
       "NOC    0.000000     2.500000   0.000000       No Charge"
      ]
     },
     "execution_count": 19,
     "metadata": {},
     "output_type": "execute_result"
    }
   ],
   "source": [
    "joined = groupby_payment.set_index('payment_type').join(payment_meaning)\n",
    "joined.sort_values('tip_ratio', ascending=False).to_pandas()"
   ]
  }
 ],
 "metadata": {
  "kernelspec": {
   "display_name": "Python 3",
   "language": "python",
   "name": "python3"
  },
  "language_info": {
   "codemirror_mode": {
    "name": "ipython",
    "version": 3
   },
   "file_extension": ".py",
   "mimetype": "text/x-python",
   "name": "python",
   "nbconvert_exporter": "python",
   "pygments_lexer": "ipython3",
   "version": "3.6.0"
  }
 },
 "nbformat": 4,
 "nbformat_minor": 2
}
